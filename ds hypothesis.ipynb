{
 "cells": [
  {
   "cell_type": "markdown",
   "metadata": {},
   "source": [
    "### ONE SAMPLE T-TEST"
   ]
  },
  {
   "cell_type": "code",
   "execution_count": 9,
   "metadata": {},
   "outputs": [
    {
     "name": "stdout",
     "output_type": "stream",
     "text": [
      "t value 0.2006562773994862\n",
      "p value 0.8446291893053613\n"
     ]
    }
   ],
   "source": [
    "from scipy.stats import ttest_1samp\n",
    "x = [21.5, 24.5, 18.5, 17.2, 14.5, 23.2, 22.1, 20.5, 19.4, 18.1, 24.1, 18.5]\n",
    "tscore,pvalue=ttest_1samp(x,popmean=20)\n",
    "print('t value',tscore)\n",
    "print('p value',pvalue)"
   ]
  },
  {
   "cell_type": "markdown",
   "metadata": {},
   "source": [
    "### INDEPENDENT SAMPLE T-TEST"
   ]
  },
  {
   "cell_type": "code",
   "execution_count": 18,
   "metadata": {},
   "outputs": [
    {
     "name": "stdout",
     "output_type": "stream",
     "text": [
      "t=0.382,p=0.712\n",
      "the alternate hypothesis is accepted\n"
     ]
    }
   ],
   "source": [
    "from numpy.random import seed\n",
    "from numpy.random import randn\n",
    "from scipy.stats import ttest_ind\n",
    "import numpy as np\n",
    "alpha=0.05\n",
    "class_a=np.array([1,87,43,13,65])\n",
    "class_b=np.array([25,26,32,42,52])\n",
    "stat,p=ttest_ind(class_a,class_b)\n",
    "print('t=%.3f,p=%.3f' %(stat,p))\n",
    "if p>alpha:\n",
    "    print('the alternate hypothesis is accepted')\n",
    "else:\n",
    "    print('the null hypothesis is accepted')"
   ]
  },
  {
   "cell_type": "code",
   "execution_count": 28,
   "metadata": {},
   "outputs": [
    {
     "name": "stdout",
     "output_type": "stream",
     "text": [
      "0.4975365687586023\n"
     ]
    }
   ],
   "source": [
    "import random\n",
    "random.seed(50)\n",
    "print(random.random())"
   ]
  },
  {
   "cell_type": "markdown",
   "metadata": {},
   "source": [
    "### DEPENDENT T-TEST"
   ]
  },
  {
   "cell_type": "code",
   "execution_count": 33,
   "metadata": {},
   "outputs": [
    {
     "name": "stdout",
     "output_type": "stream",
     "text": [
      "t=0.776,p=0.460\n",
      "The alternate hypothesis is accepted\n"
     ]
    }
   ],
   "source": [
    "from numpy.random import seed\n",
    "from numpy.random import randn\n",
    "from scipy.stats import ttest_ind\n",
    "import numpy as np\n",
    "alpha=0.05\n",
    "before_tution=np.array([1,87,43,13,65])\n",
    "after_tution=np.array([25,13,32,20,52])\n",
    "stat,p=ttest_ind(before_tution,after_tution)\n",
    "print('t=%.3f,p=%.3f' %(stat,p))\n",
    "if p>alpha:\n",
    "    print('The alternate hypothesis is accepted')\n",
    "else:\n",
    "    print('The null hypothesis is accepted')"
   ]
  },
  {
   "cell_type": "code",
   "execution_count": 34,
   "metadata": {},
   "outputs": [
    {
     "data": {
      "text/plain": [
       "41.8"
      ]
     },
     "execution_count": 34,
     "metadata": {},
     "output_type": "execute_result"
    }
   ],
   "source": [
    "before_tution.mean()"
   ]
  },
  {
   "cell_type": "code",
   "execution_count": 36,
   "metadata": {},
   "outputs": [
    {
     "data": {
      "text/plain": [
       "28.4"
      ]
     },
     "execution_count": 36,
     "metadata": {},
     "output_type": "execute_result"
    }
   ],
   "source": [
    "after_tution.mean()"
   ]
  },
  {
   "cell_type": "markdown",
   "metadata": {},
   "source": [
    "### chi-square contigency "
   ]
  },
  {
   "cell_type": "code",
   "execution_count": 4,
   "metadata": {},
   "outputs": [
    {
     "name": "stdout",
     "output_type": "stream",
     "text": [
      "p value is:0.1031971404730939\n",
      "independent(H0 holds true)\n"
     ]
    }
   ],
   "source": [
    "from scipy.stats import chi2_contingency\n",
    "data=[[207,282,241],[234,242,232]]\n",
    "stats,p,dof,expected=chi2_contingency(data)\n",
    "alpha=0.05\n",
    "print('p value is:'+ str(p))\n",
    "if p>=alpha:\n",
    "    print(\"independent(H0 holds true)\")\n",
    "else:\n",
    "    print(\"dependent(rejected H0)\")"
   ]
  },
  {
   "cell_type": "code",
   "execution_count": null,
   "metadata": {},
   "outputs": [],
   "source": []
  }
 ],
 "metadata": {
  "kernelspec": {
   "display_name": "Python 3",
   "language": "python",
   "name": "python3"
  },
  "language_info": {
   "codemirror_mode": {
    "name": "ipython",
    "version": 3
   },
   "file_extension": ".py",
   "mimetype": "text/x-python",
   "name": "python",
   "nbconvert_exporter": "python",
   "pygments_lexer": "ipython3",
   "version": "3.8.5"
  }
 },
 "nbformat": 4,
 "nbformat_minor": 4
}
