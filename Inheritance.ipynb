{
 "cells": [
  {
   "cell_type": "code",
   "execution_count": 6,
   "metadata": {},
   "outputs": [
    {
     "name": "stdin",
     "output_type": "stream",
     "text": [
      "enter the number1: 1\n",
      "enter the number2: 11\n"
     ]
    }
   ],
   "source": [
    "a = int(input('enter the number1:'))\n",
    "b = int(input('enter the number2:'))\n",
    "sum_ = 0\n",
    "for i in range (a,b):\n",
    "    sum_=sum_ + i"
   ]
  },
  {
   "cell_type": "code",
   "execution_count": 7,
   "metadata": {},
   "outputs": [
    {
     "data": {
      "text/plain": [
       "55"
      ]
     },
     "execution_count": 7,
     "metadata": {},
     "output_type": "execute_result"
    }
   ],
   "source": [
    "sum_"
   ]
  },
  {
   "cell_type": "code",
   "execution_count": 29,
   "metadata": {},
   "outputs": [],
   "source": [
    "class TeamMember:\n",
    "    \n",
    "    def __init__(self,name,uid):\n",
    "        self.name = name\n",
    "        self.uid = uid\n",
    "class Worker:\n",
    "    def __init__(self,pay,jobtitle):\n",
    "        self.pay = pay\n",
    "        self.jobtitle = jobtitle\n",
    "class TeamLeader(TeamMember,Worker):\n",
    "    def __init__(self,name,uid,pay,jobtitle,exp):\n",
    "        TeamMember.__init__(self,name,uid)\n",
    "        Worker.__init__(self,pay,jobtitle)\n",
    "        self.exp = exp\n",
    "        print(\"name: {},pay: {},exp: {}\".format(self.name,self.pay,self.exp))"
   ]
  },
  {
   "cell_type": "code",
   "execution_count": 30,
   "metadata": {},
   "outputs": [
    {
     "name": "stdout",
     "output_type": "stream",
     "text": [
      "name: john,pay: 21000,exp: 5\n"
     ]
    }
   ],
   "source": [
    "tl = TeamLeader('john',1001,21000,'scrum',5)"
   ]
  },
  {
   "cell_type": "code",
   "execution_count": 26,
   "metadata": {},
   "outputs": [
    {
     "data": {
      "text/plain": [
       "<__main__.TeamLeader at 0x167761f67f0>"
      ]
     },
     "execution_count": 26,
     "metadata": {},
     "output_type": "execute_result"
    }
   ],
   "source": [
    "tl"
   ]
  },
  {
   "cell_type": "code",
   "execution_count": 27,
   "metadata": {},
   "outputs": [],
   "source": [
    "class TeamMember:\n",
    "    \n",
    "    def __init__(self, name, uid):\n",
    "        self.name = name\n",
    "        self.uid = uid\n",
    "        \n",
    "# Parent class 2       \n",
    "class Worker:\n",
    "    \n",
    "    def __init__(self, pay, jobtitle):\n",
    "        self.pay = pay\n",
    "        self.jobtitle = jobtitle\n",
    "        \n",
    "# Deriving a child class from the two parent classes\n",
    "class TeamLeader(TeamMember, Worker):\n",
    "    def __init__(self, name, uid, pay, jobtitle, exp):\n",
    "        TeamMember.__init__(self, name, uid)\n",
    "        Worker.__init__(self, pay, jobtitle)\n",
    "        self.exp = exp\n",
    "        print(\"Name: {}, Pay: {}, Exp: {}\".format(self.name, self.pay, self.exp))"
   ]
  },
  {
   "cell_type": "code",
   "execution_count": 28,
   "metadata": {},
   "outputs": [
    {
     "name": "stdout",
     "output_type": "stream",
     "text": [
      "Name: Jake, Pay: 25000, Exp: 5\n"
     ]
    }
   ],
   "source": [
    "TL = TeamLeader('Jake',1001,25000,'Scrum Master',5)"
   ]
  },
  {
   "cell_type": "code",
   "execution_count": 31,
   "metadata": {},
   "outputs": [
    {
     "data": {
      "text/plain": [
       "<__main__.TeamLeader at 0x1677625b7c0>"
      ]
     },
     "execution_count": 31,
     "metadata": {},
     "output_type": "execute_result"
    }
   ],
   "source": [
    "TL"
   ]
  },
  {
   "cell_type": "code",
   "execution_count": 33,
   "metadata": {},
   "outputs": [],
   "source": [
    "class teammember:\n",
    "    def __init__(self,name,uid):\n",
    "        self.name =name\n",
    "        self.uid = uid\n",
    "class worker:\n",
    "    def __init__(self,pay,jobtitle):\n",
    "        self.pay=pay\n",
    "        self.jobtitle=jobtitle\n",
    "class teamleader(teammember,worker):\n",
    "    def __init__(self,name,uid,pay,jobtitle,exp):\n",
    "        teammember.__init__(self,name,uid)\n",
    "        worker.__init__(self,pay,jobtitle)\n",
    "        self.exp = exp\n",
    "        print('name: {},pay: {},exp: {}'.format(self.name,self.pay,self.exp))"
   ]
  },
  {
   "cell_type": "code",
   "execution_count": 34,
   "metadata": {},
   "outputs": [
    {
     "name": "stdout",
     "output_type": "stream",
     "text": [
      "name: john,pay: 25000,exp: 2\n"
     ]
    }
   ],
   "source": [
    "tl = teamleader('john',10001,25000,'clustl = teamleader('john',10001,25000,'clustering',2)tering',2)"
   ]
  },
  {
   "cell_type": "code",
   "execution_count": 35,
   "metadata": {},
   "outputs": [],
   "source": [
    "class teammember:\n",
    "    def __init__(self,name,uid):\n",
    "        self.name =name\n",
    "        self.uid = uid\n",
    "class worker:\n",
    "    def __init__(self,pay,jobtitle):\n",
    "        self.pay=pay\n",
    "        self.jobtitle=jobtitle\n",
    "class teamleader(teammember,worker):\n",
    "    def __init__(self,name,uid,pay,jobtitle,exp):\n",
    "        teammember.__init__(self,name,uid)\n",
    "        worker.__init__(self,pay,jobtitle)\n",
    "        self.exp = exp\n",
    "        print(f'name: {name},uid:{uid},pay: {pay},jobtitle: {jobtitle},exp: {exp}')"
   ]
  },
  {
   "cell_type": "code",
   "execution_count": 36,
   "metadata": {},
   "outputs": [
    {
     "name": "stdout",
     "output_type": "stream",
     "text": [
      "name: john,uid:10001,pay: 25000,jobtitle: clustering,exp: 2\n"
     ]
    }
   ],
   "source": [
    "tl = teamleader('john',10001,25000,'clustering',2)"
   ]
  },
  {
   "cell_type": "code",
   "execution_count": 37,
   "metadata": {},
   "outputs": [],
   "source": [
    "class teammember:\n",
    "    def emp(self,name,uid):\n",
    "        self.name =name\n",
    "        self.uid = uid\n",
    "class worker:\n",
    "    def data(self,pay,jobtitle):\n",
    "        self.pay=pay\n",
    "        self.jobtitle=jobtitle\n",
    "class teamleader(teammember,worker):\n",
    "    def sand(self,name,uid,pay,jobtitle,exp):\n",
    "        teammember.emp(self,name,uid)\n",
    "        worker.data(self,pay,jobtitle)\n",
    "        self.exp = exp\n",
    "        print(f'name: {name},uid:{uid},pay: {pay},jobtitle: {jobtitle},exp: {exp}')"
   ]
  },
  {
   "cell_type": "code",
   "execution_count": 38,
   "metadata": {},
   "outputs": [
    {
     "name": "stdout",
     "output_type": "stream",
     "text": [
      "name: john,uid:10001,pay: 25000,jobtitle: clustering,exp: 2\n"
     ]
    }
   ],
   "source": [
    "t2=teamleader()\n",
    "t2.sand('john',10001,25000,'clustering',2)"
   ]
  },
  {
   "cell_type": "code",
   "execution_count": 41,
   "metadata": {},
   "outputs": [],
   "source": [
    "class Team:\n",
    "    def show_Team(self):\n",
    "        print(\"This is our Team:\")\n",
    "        \n",
    "# Testing class inherited from Team\n",
    "class Testing(Team):\n",
    "    TestingName = \"\"\n",
    "    \n",
    "    def show_Testing(self):\n",
    "        print(self.TestingName)\n",
    "        \n",
    "# Dev class inherited from Team\n",
    "class Dev(Team):\n",
    "    DevName = \"\"\n",
    "    \n",
    "    def show_Dev(self):\n",
    "        print(self.DevName)\n",
    "        \n",
    "class Sprint(Testing,Dev):\n",
    "    def show_parent(self):\n",
    "        print(\"Testing :\", self.TestingName)\n",
    "        print(\"Dev :\", self.DevName)"
   ]
  },
  {
   "cell_type": "code",
   "execution_count": 47,
   "metadata": {},
   "outputs": [],
   "source": [
    "s1 = Sprint()"
   ]
  },
  {
   "cell_type": "code",
   "execution_count": 48,
   "metadata": {},
   "outputs": [],
   "source": [
    "s1.TestingName = 'jack'"
   ]
  },
  {
   "cell_type": "code",
   "execution_count": 50,
   "metadata": {},
   "outputs": [
    {
     "name": "stdout",
     "output_type": "stream",
     "text": [
      "jack\n"
     ]
    }
   ],
   "source": [
    "s1.show_Testing()"
   ]
  },
  {
   "cell_type": "code",
   "execution_count": 51,
   "metadata": {},
   "outputs": [],
   "source": [
    "s1.DevName = 'painter'"
   ]
  },
  {
   "cell_type": "code",
   "execution_count": 52,
   "metadata": {},
   "outputs": [
    {
     "name": "stdout",
     "output_type": "stream",
     "text": [
      "painter\n"
     ]
    }
   ],
   "source": [
    "s1.show_Dev()"
   ]
  },
  {
   "cell_type": "code",
   "execution_count": 54,
   "metadata": {},
   "outputs": [
    {
     "name": "stdout",
     "output_type": "stream",
     "text": [
      "This is our Team:\n",
      "Testing : jack\n",
      "Dev : painter\n"
     ]
    }
   ],
   "source": [
    "s1.show_Team()\n",
    "s1.show_parent()"
   ]
  },
  {
   "cell_type": "code",
   "execution_count": 1,
   "metadata": {},
   "outputs": [],
   "source": [
    "class A:\n",
    "    def __init__(self,attr1):\n",
    "        self.attr1 = attr1\n",
    "        print('sell the words',self.attr1)\n",
    "class B(A):\n",
    "    def __init__(self,attr1):\n",
    "        self.attr1 = attr1\n",
    "        super().__init__(attr1)\n",
    "    def info(self):\n",
    "        print(\"the attribute is\",self.attr1)\n",
    "        "
   ]
  },
  {
   "cell_type": "code",
   "execution_count": 2,
   "metadata": {},
   "outputs": [
    {
     "name": "stdout",
     "output_type": "stream",
     "text": [
      "sell the words hai\n"
     ]
    }
   ],
   "source": [
    "obj = B('hai')"
   ]
  },
  {
   "cell_type": "code",
   "execution_count": 3,
   "metadata": {},
   "outputs": [
    {
     "name": "stdout",
     "output_type": "stream",
     "text": [
      "the attribute is hai\n"
     ]
    }
   ],
   "source": [
    "obj.info()"
   ]
  },
  {
   "cell_type": "code",
   "execution_count": 105,
   "metadata": {},
   "outputs": [
    {
     "name": "stdout",
     "output_type": "stream",
     "text": [
      "Constructor C\n",
      "(<class '__main__.E'>, <class '__main__.B'>, <class '__main__.C'>, <class '__main__.A'>, <class 'object'>)\n",
      "[<class '__main__.E'>, <class '__main__.B'>, <class '__main__.C'>, <class '__main__.A'>, <class 'object'>]\n"
     ]
    }
   ],
   "source": [
    "class A: \n",
    "    def rk(self): \n",
    "        print(\" In class A\") \n",
    "class B: \n",
    "    def rk(self): \n",
    "        print(\" In class B\") \n",
    "  \n",
    "# classes ordering \n",
    "class C: \n",
    "    def __init__(self): \n",
    "        print(\"Constructor C\") \n",
    "        \n",
    "\n",
    "class E(B,C,A):\n",
    "    def __init__(self):\n",
    "        print(\"Constructor C\")  \n",
    "        \n",
    "r = E() \n",
    "# it prints the lookup order  \n",
    "print(E.__mro__) \n",
    "print(E.mro())"
   ]
  },
  {
   "cell_type": "markdown",
   "metadata": {},
   "source": [
    "# polymorphism"
   ]
  },
  {
   "cell_type": "code",
   "execution_count": 16,
   "metadata": {},
   "outputs": [],
   "source": [
    "class shark():\n",
    "    def swim(self):\n",
    "            print(\" The shark has swim\")\n",
    "            \n",
    "    def swim_backwards(self):\n",
    "        print(\"the shark cannot swim backward\")\n",
    "        \n",
    "    def skelton(self):\n",
    "        print(\"the shark skelton made up of a cartiledge\")\n",
    "        \n",
    "class clownfish():\n",
    "    \n",
    "    def swim(self):\n",
    "        print(\"the clownfish has swim\")\n",
    "        \n",
    "    def swim_backwards(self):\n",
    "        print(\"the clown fish swim backward\")\n",
    "        \n",
    "    def skelton(self):\n",
    "              print(\"the clown fish skelton made up of bones\")"
   ]
  },
  {
   "cell_type": "code",
   "execution_count": 17,
   "metadata": {},
   "outputs": [],
   "source": [
    "rado = shark()\n",
    "casey =clownfish()"
   ]
  },
  {
   "cell_type": "code",
   "execution_count": 19,
   "metadata": {},
   "outputs": [
    {
     "name": "stdout",
     "output_type": "stream",
     "text": [
      " The shark has swim\n",
      "the shark cannot swim backward\n",
      "the shark skelton made up of a cartiledge\n",
      "the clownfish has swim\n",
      "the clown fish swim backward\n",
      "the clown fish skelton made up of bones\n"
     ]
    }
   ],
   "source": [
    "for animals in (rado,casey):\n",
    "    animals.swim()\n",
    "    animals.swim_backwards()\n",
    "    animals.skelton()"
   ]
  },
  {
   "cell_type": "code",
   "execution_count": null,
   "metadata": {},
   "outputs": [],
   "source": []
  }
 ],
 "metadata": {
  "kernelspec": {
   "display_name": "Python 3",
   "language": "python",
   "name": "python3"
  },
  "language_info": {
   "codemirror_mode": {
    "name": "ipython",
    "version": 3
   },
   "file_extension": ".py",
   "mimetype": "text/x-python",
   "name": "python",
   "nbconvert_exporter": "python",
   "pygments_lexer": "ipython3",
   "version": "3.8.5"
  }
 },
 "nbformat": 4,
 "nbformat_minor": 4
}
