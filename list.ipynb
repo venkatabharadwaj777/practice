{
 "cells": [
  {
   "cell_type": "markdown",
   "id": "0d0adc17",
   "metadata": {},
   "source": [
    "# List"
   ]
  },
  {
   "cell_type": "markdown",
   "id": "6de52992",
   "metadata": {},
   "source": [
    "+ list is an mutuable in nature,changeble,ordered and it allows an duplicate values\n",
    "+ list is an hetrogenuous"
   ]
  },
  {
   "cell_type": "code",
   "execution_count": 34,
   "id": "ec217e05",
   "metadata": {},
   "outputs": [
    {
     "data": {
      "text/plain": [
       "6"
      ]
     },
     "execution_count": 34,
     "metadata": {},
     "output_type": "execute_result"
    }
   ],
   "source": [
    "list1 = [1,\"man\",2.0,True,9,1]\n",
    "len(list1)"
   ]
  },
  {
   "cell_type": "markdown",
   "id": "f7635172",
   "metadata": {},
   "source": [
    "## Adding elements"
   ]
  },
  {
   "cell_type": "code",
   "execution_count": 3,
   "id": "debc9a29",
   "metadata": {},
   "outputs": [
    {
     "data": {
      "text/plain": [
       "[1, 'man', 2.0, True, 9, 1]"
      ]
     },
     "execution_count": 3,
     "metadata": {},
     "output_type": "execute_result"
    }
   ],
   "source": [
    "list1"
   ]
  },
  {
   "cell_type": "code",
   "execution_count": 4,
   "id": "d6c2ca30",
   "metadata": {},
   "outputs": [],
   "source": [
    "list1.append(\"ran\")"
   ]
  },
  {
   "cell_type": "code",
   "execution_count": 5,
   "id": "cb5f06ef",
   "metadata": {},
   "outputs": [
    {
     "data": {
      "text/plain": [
       "[1, 'man', 2.0, True, 9, 1, 'ran']"
      ]
     },
     "execution_count": 5,
     "metadata": {},
     "output_type": "execute_result"
    }
   ],
   "source": [
    "list1"
   ]
  },
  {
   "cell_type": "markdown",
   "id": "2d26dfde",
   "metadata": {},
   "source": [
    "# Indexing"
   ]
  },
  {
   "cell_type": "markdown",
   "id": "2de76115",
   "metadata": {},
   "source": [
    "+ Indexing is used to access the elements inside datatype\n",
    "\n",
    "    1.Postivie indexing(0,1,2,...) :- left to right\n",
    "    \n",
    "    2.Negative indexing(-1,-2,-3....) :- Right to left\n",
    "    \n",
    "+ sliceing\n",
    "\n",
    "    syntax:- [Include:Exclude:step]"
   ]
  },
  {
   "cell_type": "code",
   "execution_count": 6,
   "id": "8963f2bc",
   "metadata": {},
   "outputs": [
    {
     "data": {
      "text/plain": [
       "2.0"
      ]
     },
     "execution_count": 6,
     "metadata": {},
     "output_type": "execute_result"
    }
   ],
   "source": [
    "list1[2]"
   ]
  },
  {
   "cell_type": "code",
   "execution_count": 7,
   "id": "d384036a",
   "metadata": {},
   "outputs": [
    {
     "data": {
      "text/plain": [
       "2.0"
      ]
     },
     "execution_count": 7,
     "metadata": {},
     "output_type": "execute_result"
    }
   ],
   "source": [
    "list1[-5]"
   ]
  },
  {
   "cell_type": "code",
   "execution_count": 8,
   "id": "10fca9e7",
   "metadata": {},
   "outputs": [
    {
     "data": {
      "text/plain": [
       "[1, 'man', 2.0, True, 9, 1, 'ran']"
      ]
     },
     "execution_count": 8,
     "metadata": {},
     "output_type": "execute_result"
    }
   ],
   "source": [
    "list1"
   ]
  },
  {
   "cell_type": "code",
   "execution_count": 9,
   "id": "6b56f550",
   "metadata": {},
   "outputs": [
    {
     "data": {
      "text/plain": [
       "['man', 2.0, True]"
      ]
     },
     "execution_count": 9,
     "metadata": {},
     "output_type": "execute_result"
    }
   ],
   "source": [
    "list1[1:4]"
   ]
  },
  {
   "cell_type": "code",
   "execution_count": 10,
   "id": "a5fe19dd",
   "metadata": {},
   "outputs": [
    {
     "data": {
      "text/plain": [
       "['man', 2.0, True, 9]"
      ]
     },
     "execution_count": 10,
     "metadata": {},
     "output_type": "execute_result"
    }
   ],
   "source": [
    "list1[1:5]"
   ]
  },
  {
   "cell_type": "code",
   "execution_count": 11,
   "id": "21cb8434",
   "metadata": {},
   "outputs": [],
   "source": [
    "list2 = [1,2,3,4,5,6,7,8]"
   ]
  },
  {
   "cell_type": "code",
   "execution_count": 12,
   "id": "28531615",
   "metadata": {},
   "outputs": [
    {
     "data": {
      "text/plain": [
       "[1, 2, 3, 4, 5, 6, 7, 8]"
      ]
     },
     "execution_count": 12,
     "metadata": {},
     "output_type": "execute_result"
    }
   ],
   "source": [
    "list2"
   ]
  },
  {
   "cell_type": "code",
   "execution_count": 14,
   "id": "134c3f36",
   "metadata": {},
   "outputs": [
    {
     "data": {
      "text/plain": [
       "[2, 5]"
      ]
     },
     "execution_count": 14,
     "metadata": {},
     "output_type": "execute_result"
    }
   ],
   "source": [
    "list2[1:6:3]"
   ]
  },
  {
   "cell_type": "code",
   "execution_count": 19,
   "id": "4c890295",
   "metadata": {},
   "outputs": [
    {
     "data": {
      "text/plain": [
       "[2, 3, 4]"
      ]
     },
     "execution_count": 19,
     "metadata": {},
     "output_type": "execute_result"
    }
   ],
   "source": [
    "list2[1:-4]"
   ]
  },
  {
   "cell_type": "markdown",
   "id": "10fa5840",
   "metadata": {},
   "source": [
    "## update list items"
   ]
  },
  {
   "cell_type": "code",
   "execution_count": 20,
   "id": "ef11507f",
   "metadata": {},
   "outputs": [
    {
     "data": {
      "text/plain": [
       "[1, 2, 3, 4, 5, 6, 7, 8]"
      ]
     },
     "execution_count": 20,
     "metadata": {},
     "output_type": "execute_result"
    }
   ],
   "source": [
    "list2"
   ]
  },
  {
   "cell_type": "code",
   "execution_count": 21,
   "id": "830c1998",
   "metadata": {},
   "outputs": [],
   "source": [
    "list2.insert(2,10)"
   ]
  },
  {
   "cell_type": "code",
   "execution_count": 22,
   "id": "4db96521",
   "metadata": {},
   "outputs": [
    {
     "data": {
      "text/plain": [
       "[1, 2, 10, 3, 4, 5, 6, 7, 8]"
      ]
     },
     "execution_count": 22,
     "metadata": {},
     "output_type": "execute_result"
    }
   ],
   "source": [
    "list2"
   ]
  },
  {
   "cell_type": "code",
   "execution_count": 23,
   "id": "159fc375",
   "metadata": {},
   "outputs": [],
   "source": [
    "list2.remove(6)"
   ]
  },
  {
   "cell_type": "code",
   "execution_count": 24,
   "id": "328826ff",
   "metadata": {},
   "outputs": [
    {
     "data": {
      "text/plain": [
       "[1, 2, 10, 3, 4, 5, 7, 8]"
      ]
     },
     "execution_count": 24,
     "metadata": {},
     "output_type": "execute_result"
    }
   ],
   "source": [
    "list2"
   ]
  },
  {
   "cell_type": "code",
   "execution_count": 25,
   "id": "cde42793",
   "metadata": {},
   "outputs": [
    {
     "data": {
      "text/plain": [
       "4"
      ]
     },
     "execution_count": 25,
     "metadata": {},
     "output_type": "execute_result"
    }
   ],
   "source": [
    "list2.pop(4)"
   ]
  },
  {
   "cell_type": "code",
   "execution_count": 26,
   "id": "353cb0e5",
   "metadata": {},
   "outputs": [
    {
     "data": {
      "text/plain": [
       "[1, 2, 10, 3, 5, 7, 8]"
      ]
     },
     "execution_count": 26,
     "metadata": {},
     "output_type": "execute_result"
    }
   ],
   "source": [
    "list2"
   ]
  },
  {
   "cell_type": "markdown",
   "id": "6cfef2dc",
   "metadata": {},
   "source": [
    "methods: append,clear,insert,pop,count,extend,index....etc"
   ]
  },
  {
   "cell_type": "code",
   "execution_count": 35,
   "id": "af418fde",
   "metadata": {},
   "outputs": [
    {
     "data": {
      "text/plain": [
       "[1, 'man', 2.0, True, 9, 1]"
      ]
     },
     "execution_count": 35,
     "metadata": {},
     "output_type": "execute_result"
    }
   ],
   "source": [
    "list1"
   ]
  },
  {
   "cell_type": "code",
   "execution_count": 29,
   "id": "82b917a8",
   "metadata": {},
   "outputs": [
    {
     "data": {
      "text/plain": [
       "[1, 2, 10, 3, 5, 7, 8]"
      ]
     },
     "execution_count": 29,
     "metadata": {},
     "output_type": "execute_result"
    }
   ],
   "source": [
    "list2"
   ]
  },
  {
   "cell_type": "code",
   "execution_count": 30,
   "id": "0b5de908",
   "metadata": {},
   "outputs": [],
   "source": [
    "list1.extend(list2)"
   ]
  },
  {
   "cell_type": "code",
   "execution_count": 31,
   "id": "99b8734d",
   "metadata": {},
   "outputs": [
    {
     "data": {
      "text/plain": [
       "[1, 'man', 2.0, True, 9, 1, 'ran', 1, 2, 10, 3, 5, 7, 8]"
      ]
     },
     "execution_count": 31,
     "metadata": {},
     "output_type": "execute_result"
    }
   ],
   "source": [
    "list1"
   ]
  },
  {
   "cell_type": "code",
   "execution_count": 36,
   "id": "b32484e5",
   "metadata": {},
   "outputs": [
    {
     "data": {
      "text/plain": [
       "[1, 'man', 2.0, True, 9, 1, 1, 2, 10, 3, 5, 7, 8]"
      ]
     },
     "execution_count": 36,
     "metadata": {},
     "output_type": "execute_result"
    }
   ],
   "source": [
    "list1+list2"
   ]
  },
  {
   "cell_type": "code",
   "execution_count": null,
   "id": "a4ebed9d",
   "metadata": {},
   "outputs": [],
   "source": []
  }
 ],
 "metadata": {
  "kernelspec": {
   "display_name": "Python 3 (ipykernel)",
   "language": "python",
   "name": "python3"
  },
  "language_info": {
   "codemirror_mode": {
    "name": "ipython",
    "version": 3
   },
   "file_extension": ".py",
   "mimetype": "text/x-python",
   "name": "python",
   "nbconvert_exporter": "python",
   "pygments_lexer": "ipython3",
   "version": "3.9.7"
  }
 },
 "nbformat": 4,
 "nbformat_minor": 5
}
